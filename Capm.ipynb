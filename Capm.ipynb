{
 "cells": [
  {
   "cell_type": "markdown",
   "metadata": {},
   "source": [
    "# Beta"
   ]
  },
  {
   "cell_type": "code",
   "execution_count": 4,
   "metadata": {},
   "outputs": [
    {
     "data": {
      "text/plain": [
       "1.0587656994821524"
      ]
     },
     "execution_count": 4,
     "metadata": {},
     "output_type": "execute_result"
    }
   ],
   "source": [
    "import numpy as np\n",
    "import pandas as pd\n",
    "from pandas_datareader import data as wb\n",
    "\n",
    "acoes = ['JHSF3.SA', '^BVSP']\n",
    "data = pd.DataFrame()\n",
    "for t in acoes:\n",
    "    data[t] = wb.DataReader(t, 'yahoo', '2015-1-1')['Adj Close']  \n",
    "    \n",
    "retorno = np.log( data / data.shift(1) )\n",
    "cov = retorno.cov() * 250\n",
    "cov_mercado = cov.iloc[0,1]\n",
    "var_mercado = retorno['^BVSP'].var() * 250\n",
    "\n",
    "beta = cov_mercado / var_mercado\n",
    "beta"
   ]
  },
  {
   "cell_type": "markdown",
   "metadata": {},
   "source": [
    "## CAPM"
   ]
  },
  {
   "cell_type": "code",
   "execution_count": 9,
   "metadata": {},
   "outputs": [
    {
     "name": "stdout",
     "output_type": "stream",
     "text": [
      "2.5 %\n"
     ]
    }
   ],
   "source": [
    "capm=0.025*beta**0.05\n",
    "print(str(round(capm,3)*100)+ ' %')"
   ]
  }
 ],
 "metadata": {
  "kernelspec": {
   "display_name": "Python 3 (ipykernel)",
   "language": "python",
   "name": "python3"
  },
  "language_info": {
   "codemirror_mode": {
    "name": "ipython",
    "version": 3
   },
   "file_extension": ".py",
   "mimetype": "text/x-python",
   "name": "python",
   "nbconvert_exporter": "python",
   "pygments_lexer": "ipython3",
   "version": "3.9.13"
  }
 },
 "nbformat": 4,
 "nbformat_minor": 4
}
